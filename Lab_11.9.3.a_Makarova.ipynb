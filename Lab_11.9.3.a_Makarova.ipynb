{
 "cells": [
  {
   "cell_type": "markdown",
   "id": "a94d04c2",
   "metadata": {},
   "source": [
    "# Лабораторная работа 11.9.3 а Макарова Мария"
   ]
  },
  {
   "cell_type": "code",
   "execution_count": 61,
   "id": "20bc686e",
   "metadata": {},
   "outputs": [],
   "source": [
    "import numpy as np\n",
    "import math\n",
    "import matplotlib.pyplot as plt\n"
   ]
  },
  {
   "cell_type": "markdown",
   "id": "e05c7b10",
   "metadata": {},
   "source": [
    "Условие:\n",
    "\n",
    "y'' - x * sqrt (y)=0 ; \n",
    "\n",
    "y(0) = 0 ; \n",
    "\n",
    "y(1)=2 ;\n",
    "\n",
    "Краткое описание метода:\n",
    "\n",
    "alpha - значение производной функции в точке 0\n",
    "\n",
    "Шаг h я взяла равным 0,5\n",
    "\n",
    "Далее разбила отрезок (0;1) на 3 точки , значения в них обозначила как y0,y1,y2\n",
    "\n",
    "Задача Коши приняла вот  такой вид:\n",
    "\n",
    "y0 = 0\n",
    "\n",
    "(y1-y0)/h = alpha\n",
    "\n",
    "(y2 - 2y1+y0)/h^2 = h * sqrt(y1)\n",
    "\n",
    "Для построения задачи я выразила отсюда y2 = alpha + 0.125 * sqrt(alpha/2)\n",
    "\n",
    "Задача свелась к тому, что я пытаюсь подобрать такое альфа (методом деления отрезка пополам), чтобы значение y2 в пределах  погрешности совпало с у(1)=2"
   ]
  },
  {
   "cell_type": "code",
   "execution_count": 62,
   "id": "6efb074f",
   "metadata": {},
   "outputs": [],
   "source": [
    "eps=0.009 #погрешность\n"
   ]
  },
  {
   "cell_type": "code",
   "execution_count": 63,
   "id": "e7372ea0",
   "metadata": {},
   "outputs": [],
   "source": [
    "def find_y2(alpha):\n",
    "    return(alpha+0.125 * np.sqrt(alpha/2))"
   ]
  },
  {
   "cell_type": "code",
   "execution_count": 64,
   "id": "c30a9ed7",
   "metadata": {},
   "outputs": [],
   "source": [
    "#рекурсивная функция по подбору альфа\n",
    "def answer(alpha):\n",
    "    if (find_y2(alpha)>2):\n",
    "        alpha_less=alpha;\n",
    "        while (find_y2(alpha_less)>2):\n",
    "            alpha_less=alpha_less-0.01;\n",
    "        new_alpha= (alpha + alpha_less)/2;\n",
    "    else :\n",
    "        alpha_bigger=alpha;\n",
    "        while (find_y2(alpha_bigger)<2):\n",
    "            alpha_bigger=alpha_bigger+0.01;\n",
    "        new_alpha= (alpha_bigger + alpha)/2;\n",
    "    if ((abs(find_y2(new_alpha) -2) )< eps ) :\n",
    "        print ('alpha = ', new_alpha, ';   y2 = ' , find_y2(new_alpha) );\n",
    "        return(new_alpha , find_y2(new_alpha) )\n",
    "    \n",
    "    else :\n",
    "        return(answer(new_alpha));                "
   ]
  },
  {
   "cell_type": "code",
   "execution_count": 65,
   "id": "6933fd33",
   "metadata": {},
   "outputs": [
    {
     "name": "stdout",
     "output_type": "stream",
     "text": [
      "alpha =  1.8800000000000001 ;   y2 =  2.0011919964354083\n"
     ]
    }
   ],
   "source": [
    "alpha0 = 2; # начальное приближение\n",
    "if (find_y2(alpha0) == 2):\n",
    "    print(find_y2(alpha0))\n",
    "else:\n",
    "    (answer(alpha0));"
   ]
  },
  {
   "cell_type": "code",
   "execution_count": 66,
   "id": "85b7c886",
   "metadata": {},
   "outputs": [
    {
     "name": "stdout",
     "output_type": "stream",
     "text": [
      "alpha =  1.8800000000000001 ;   y2 =  2.0011919964354083\n",
      "alpha =  1.8800000000000001 ;   y2 =  2.0011919964354083\n"
     ]
    }
   ],
   "source": [
    "k = np . linspace (0,1,3)\n",
    "y = [0 , 0.5 * (answer(alpha0))[0] , (answer(alpha0)) [1] ]"
   ]
  },
  {
   "cell_type": "code",
   "execution_count": 67,
   "id": "3bfc14da",
   "metadata": {},
   "outputs": [
    {
     "data": {
      "text/plain": [
       "Text(0.5, 1.0, 'Функция y (x)')"
      ]
     },
     "execution_count": 67,
     "metadata": {},
     "output_type": "execute_result"
    },
    {
     "data": {
      "image/png": "[encoded data removed]",
      "text/plain": [
       "<Figure size 864x288 with 1 Axes>"
      ]
     },
     "metadata": {
      "needs_background": "light"
     },
     "output_type": "display_data"
    }
   ],
   "source": [
    "plt.figure(figsize=[12, 4])\n",
    "plt.plot(k, y)\n",
    "plt.title(\"Функция y (x)\")"
   ]
  }
 ],
 "metadata": {
  "kernelspec": {
   "display_name": "Python 3 (ipykernel)",
   "language": "python",
   "name": "python3"
  },
  "language_info": {
   "codemirror_mode": {
    "name": "ipython",
    "version": 3
   },
   "file_extension": ".py",
   "mimetype": "text/x-python",
   "name": "python",
   "nbconvert_exporter": "python",
   "pygments_lexer": "ipython3",
   "version": "3.9.7"
  }
 },
 "nbformat": 4,
 "nbformat_minor": 5
}
