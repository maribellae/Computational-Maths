{
 "cells": [
  {
   "cell_type": "markdown",
   "id": "a037b008",
   "metadata": {},
   "source": [
    "# Лабораторная работа 9.12 Макарова Мария\n",
    "# Метод Розенброка 3 порядка для задачи экогенетической модели"
   ]
  },
  {
   "cell_type": "code",
   "execution_count": 66,
   "id": "54ccb958",
   "metadata": {},
   "outputs": [],
   "source": [
    "import numpy as np              \n",
    "import matplotlib.pyplot as plt\n",
    "from numpy.linalg import solve"
   ]
  },
  {
   "cell_type": "markdown",
   "id": "bc1764e4",
   "metadata": {},
   "source": [
    "Начальные данные я взяла вблизи точки равновесия ( 0.4 10/7 5/7) "
   ]
  },
  {
   "cell_type": "code",
   "execution_count": 93,
   "id": "a11eee8d",
   "metadata": {},
   "outputs": [],
   "source": [
    "h = 0.01\n",
    "Tk = 1500\n",
    "x = np.array ( [ 0.4 + 0.5 , 10/7 + 0.5, 5/7 +0.1])\n",
    "N = 3"
   ]
  },
  {
   "cell_type": "markdown",
   "id": "3423f0bf",
   "metadata": {},
   "source": [
    "Коэффициенты метода:"
   ]
  },
  {
   "cell_type": "code",
   "execution_count": 94,
   "id": "a6ffc265",
   "metadata": {},
   "outputs": [],
   "source": [
    "p1 = 0.4369\n",
    "p2 = 0.4782\n",
    "p3 = 0.0859\n",
    "a = 0.4369\n",
    "b21 = 0.4369\n",
    "b31 = 0.4369\n",
    "b32 = -2.1161"
   ]
  },
  {
   "cell_type": "markdown",
   "id": "de8e7f52",
   "metadata": {},
   "source": [
    "Матрица Якоби :"
   ]
  },
  {
   "cell_type": "code",
   "execution_count": 95,
   "id": "41ea98b8",
   "metadata": {},
   "outputs": [],
   "source": [
    "def J(x):   \n",
    "    J = np.zeros(N*N , dtype = float).reshape(N,N)\n",
    "    J[0][0] = 1-x[0]-2*x[1]/(7*x[2]*x[2])\n",
    "    J[0][1] = - 2*x[0]/(7*x[2]*x[2])\n",
    "    J[0][2] = 4*x[1]*x[0]/(7*x[2]*x[2]*x[2])\n",
    "  \n",
    "    J[1][0] = -3.5*x[2]*x[2]*x[1]\n",
    "    J[1][1] = 2*x[2] -3.5*x[2]*x[2]*x[0]  -x[1]          \n",
    "    J[1][2] =  2*x[1]-7*x[0]*x[1]*x[2]                    \n",
    "      \n",
    "    J[2][0] = - 7 * 0.01 * x[2]        \n",
    "    J[2][2] =  - 7 * 0.01 *x[0] \n",
    "    return(J)\n",
    "E = np.eye(N)"
   ]
  },
  {
   "cell_type": "markdown",
   "id": "3aa61f87",
   "metadata": {},
   "source": [
    "Данная в условии система уравнений :"
   ]
  },
  {
   "cell_type": "code",
   "execution_count": 96,
   "id": "7d2b996d",
   "metadata": {},
   "outputs": [],
   "source": [
    "def f(y):\n",
    "    s = np.copy(y);\n",
    "    s[0] = y[0] * (1 - 0.5* y[0] - 2 * y[1] / (7 * y[2]*y[2]));\n",
    "    s[1] = y[1]*(2*y[2] - 3.5 * y[0] * y[2]*y[2] - 0.5 * y[1]);\n",
    "    s[2] = 0.01*(2 - 7 * y[0]*y[2]);\n",
    "    return (s)"
   ]
  },
  {
   "cell_type": "markdown",
   "id": "ecf3ebf5",
   "metadata": {},
   "source": [
    "По формулам метода рассчитываю на каждой итерации коэффициенты , а потом полученные векторы добавляю в матрицу Res :"
   ]
  },
  {
   "cell_type": "code",
   "execution_count": 97,
   "id": "fdad7f02",
   "metadata": {},
   "outputs": [],
   "source": [
    "Res = np.array([np.copy(x)])\n",
    "\n",
    "\n",
    "for i in range (int(Tk/h)):\n",
    "    k1 = np.linalg.solve(((E)+a*h*J(x)),(h*f(x)))\n",
    "    k2 = np.linalg.solve(((E)+a*h*J(x)),(h*f(x) + b21*k1))\n",
    "    k3 = np.linalg.solve(((E)+a*h*J(x)),(h*f(x + b31*k1 + b32 * k2)))\n",
    "    x= x + p1*k1 + p2*k2 + p3*k3\n",
    "    Res = np.append(Res,[x],axis = 0)\n",
    " "
   ]
  },
  {
   "cell_type": "code",
   "execution_count": 98,
   "id": "68654e50",
   "metadata": {},
   "outputs": [
    {
     "data": {
      "image/png": "[encoded data removed]",
      "text/plain": [
       "<Figure size 864x360 with 1 Axes>"
      ]
     },
     "metadata": {
      "needs_background": "light"
     },
     "output_type": "display_data"
    }
   ],
   "source": [
    "times = np.linspace(0, Tk, round(Tk / h)+1 )\n",
    "plt.figure(figsize = [12, 5])\n",
    "\n",
    "plt.plot(times, Res[:, 0], label = 'x(t)')\n",
    "plt.legend(loc='best')\n",
    "plt.plot(times, Res[:, 1], label = 'y(t)')\n",
    "plt.legend(loc='best')\n",
    "plt.plot(times, Res[:, 2], label = 'alpha(t)')\n",
    "plt.legend(loc='best')\n",
    "plt.grid()\n",
    "plt.show()"
   ]
  },
  {
   "cell_type": "markdown",
   "id": "1c6b2a70",
   "metadata": {},
   "source": [
    "Видим , что получили релаксационные колебания популяций, что согласуется с теорией :)"
   ]
  }
 ],
 "metadata": {
  "kernelspec": {
   "display_name": "Python 3 (ipykernel)",
   "language": "python",
   "name": "python3"
  },
  "language_info": {
   "codemirror_mode": {
    "name": "ipython",
    "version": 3
   },
   "file_extension": ".py",
   "mimetype": "text/x-python",
   "name": "python",
   "nbconvert_exporter": "python",
   "pygments_lexer": "ipython3",
   "version": "3.9.7"
  }
 },
 "nbformat": 4,
 "nbformat_minor": 5
}
