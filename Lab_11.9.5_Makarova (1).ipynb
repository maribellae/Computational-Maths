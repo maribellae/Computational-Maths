{
 "cells": [
  {
   "cell_type": "markdown",
   "id": "7fb5d269",
   "metadata": {},
   "source": [
    "# Лабораторная 11.9.5 (Макарова Мария)"
   ]
  },
  {
   "cell_type": "code",
   "execution_count": 309,
   "id": "4bb29fcb",
   "metadata": {},
   "outputs": [],
   "source": [
    "import numpy as np\n",
    "import math\n",
    "import matplotlib.pyplot as plt\n"
   ]
  },
  {
   "cell_type": "markdown",
   "id": "3c468c83",
   "metadata": {},
   "source": [
    "Само уравнение:\n",
    "y\" – P(x)y = f(x)\n",
    "\n",
    "Теория взята со страниц 88-90 в задачнике"
   ]
  },
  {
   "cell_type": "code",
   "execution_count": 311,
   "id": "1e5e0f65",
   "metadata": {},
   "outputs": [],
   "source": [
    "def P(x):\n",
    "    return(10+np.sin(2*np.pi*x))\n",
    "\n",
    "def f(x):\n",
    "    return(np.cos(2*np.pi*x))"
   ]
  },
  {
   "cell_type": "code",
   "execution_count": 312,
   "id": "814699af",
   "metadata": {},
   "outputs": [],
   "source": [
    "h=0.005\n",
    "N=200\n"
   ]
  },
  {
   "cell_type": "code",
   "execution_count": 313,
   "id": "b7d5a0d6",
   "metadata": {},
   "outputs": [],
   "source": [
    "alpha = [0]*(N+1)\n",
    "beta = [0]*(N+1)\n",
    "gamma = [0]*(N+1)\n",
    "b=[0]*(N+1)\n",
    "phi = [0]*(N+1)\n",
    "mu=[0]*(N+1)\n",
    "nu = [0]*(N+1)\n"
   ]
  },
  {
   "cell_type": "markdown",
   "id": "c75eb72f",
   "metadata": {},
   "source": [
    "Нахожу первые прогоночные коэффициенты:"
   ]
  },
  {
   "cell_type": "code",
   "execution_count": 314,
   "id": "82b3e5fe",
   "metadata": {},
   "outputs": [],
   "source": [
    "alpha[1]=1/(2+P(0)*h*h)\n",
    "beta[1]=- (f(0)*h*h)/((2+P(0)*h*h))\n",
    "gamma[1]=1/(2+P(0)*h*h)"
   ]
  },
  {
   "cell_type": "markdown",
   "id": "8ce609fe",
   "metadata": {},
   "source": [
    "Рекуррентно нахожу остальные:"
   ]
  },
  {
   "cell_type": "code",
   "execution_count": 315,
   "id": "82664171",
   "metadata": {},
   "outputs": [],
   "source": [
    "for i in range (1,N):\n",
    "    alpha[i+1]=1/(2+P(i*h)*h*h - alpha[i])\n",
    "    beta[i+1]=(beta[i] - f(i*h)*h*h)/(2+P(i*h)*h*h - alpha[i])\n",
    "    gamma[i+1]=( f (i*h) *h*h ) /(2+P(i*h)*h*h - alpha[i])"
   ]
  },
  {
   "cell_type": "code",
   "execution_count": 316,
   "id": "a13f0c6f",
   "metadata": {},
   "outputs": [
    {
     "data": {
      "text/plain": [
       "0.9846603667284023"
      ]
     },
     "execution_count": 316,
     "metadata": {},
     "output_type": "execute_result"
    }
   ],
   "source": [
    "alpha[N]"
   ]
  },
  {
   "cell_type": "markdown",
   "id": "34fbd2c1",
   "metadata": {},
   "source": [
    "Теперь прогонка справа налево:"
   ]
  },
  {
   "cell_type": "code",
   "execution_count": 317,
   "id": "23c8ccd3",
   "metadata": {},
   "outputs": [],
   "source": [
    "mu[N]= -1/(alpha[N] + gamma [N] - (2+P(N*h)*h*h) )\n",
    "nu[N]= (f(N*h)*h*h - beta[N]) / (alpha[N]+gamma[N] - P(N*h)*h*h)\n",
    "#nu[N]= (f(N*h)*h*h - beta[N]) / (alpha[N]+gamma[N] - P(1-h)*h*h)"
   ]
  },
  {
   "cell_type": "code",
   "execution_count": 318,
   "id": "9ec554b8",
   "metadata": {},
   "outputs": [],
   "source": [
    "for i in range (N,0,-1):\n",
    "    mu[i-1]=alpha[i]*mu[i] + gamma[i]*mu[N]\n",
    "    nu[i-1]=beta[i] + alpha[i]*nu[i]+gamma[i]*nu[N]"
   ]
  },
  {
   "cell_type": "markdown",
   "id": "a0cb94b3",
   "metadata": {},
   "source": [
    "Теперь строю функцию во всех точках сетки:"
   ]
  },
  {
   "cell_type": "code",
   "execution_count": 319,
   "id": "8d37009a",
   "metadata": {},
   "outputs": [],
   "source": [
    "y=[0]*(N+1)"
   ]
  },
  {
   "cell_type": "code",
   "execution_count": 320,
   "id": "ef570179",
   "metadata": {},
   "outputs": [],
   "source": [
    "y[0]=nu[0]/(1-mu[0])\n"
   ]
  },
  {
   "cell_type": "code",
   "execution_count": 321,
   "id": "aeaf2ccb",
   "metadata": {},
   "outputs": [],
   "source": [
    "for i in range(2,N+1,1):\n",
    "    y[i-1] = alpha[i]*(mu[i] * y[0] + nu[i])+beta[i] + gamma[i]*(mu[N]*y[0]+nu[N])"
   ]
  },
  {
   "cell_type": "code",
   "execution_count": 322,
   "id": "6473843c",
   "metadata": {},
   "outputs": [
    {
     "data": {
      "image/png": "[encoded data removed]",
      "text/plain": [
       "<Figure size 864x288 with 1 Axes>"
      ]
     },
     "metadata": {
      "needs_background": "light"
     },
     "output_type": "display_data"
    }
   ],
   "source": [
    "k = np.linspace(0,N,N+1)\n",
    "plt.figure(figsize=[12, 4])\n",
    "plt.plot(k, y)\n",
    "plt.title(\"Полученная периодическая функция\")\n",
    "plt.xlabel(\"$n$\")\n",
    "plt.ylabel(\"$y$\")\n",
    "plt.grid()\n",
    "\n",
    "plt.tight_layout() \n",
    "plt.show()"
   ]
  },
  {
   "cell_type": "markdown",
   "id": "b0bcce5a",
   "metadata": {},
   "source": [
    "Все:)"
   ]
  }
 ],
 "metadata": {
  "kernelspec": {
   "display_name": "Python 3 (ipykernel)",
   "language": "python",
   "name": "python3"
  },
  "language_info": {
   "codemirror_mode": {
    "name": "ipython",
    "version": 3
   },
   "file_extension": ".py",
   "mimetype": "text/x-python",
   "name": "python",
   "nbconvert_exporter": "python",
   "pygments_lexer": "ipython3",
   "version": "3.9.7"
  }
 },
 "nbformat": 4,
 "nbformat_minor": 5
}
